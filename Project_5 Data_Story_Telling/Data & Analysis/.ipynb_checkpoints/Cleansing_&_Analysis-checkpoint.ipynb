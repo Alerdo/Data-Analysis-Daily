{
 "cells": [
  {
   "cell_type": "code",
   "execution_count": 3,
   "id": "fa10a468",
   "metadata": {},
   "outputs": [],
   "source": [
    "import pandas as pd \n",
    "import numpy as np\n",
    "\n"
   ]
  },
  {
   "cell_type": "code",
   "execution_count": 5,
   "id": "b78f32bf",
   "metadata": {},
   "outputs": [
    {
     "data": {
      "text/html": [
       "<div>\n",
       "<style scoped>\n",
       "    .dataframe tbody tr th:only-of-type {\n",
       "        vertical-align: middle;\n",
       "    }\n",
       "\n",
       "    .dataframe tbody tr th {\n",
       "        vertical-align: top;\n",
       "    }\n",
       "\n",
       "    .dataframe thead th {\n",
       "        text-align: right;\n",
       "    }\n",
       "</style>\n",
       "<table border=\"1\" class=\"dataframe\">\n",
       "  <thead>\n",
       "    <tr style=\"text-align: right;\">\n",
       "      <th></th>\n",
       "      <th>City</th>\n",
       "      <th>Recep Tayyip Erdogan Percentage</th>\n",
       "      <th>R E Votes</th>\n",
       "      <th>Kemal</th>\n",
       "      <th>Kemal Votes</th>\n",
       "    </tr>\n",
       "  </thead>\n",
       "  <tbody>\n",
       "    <tr>\n",
       "      <th>0</th>\n",
       "      <td>Adana</td>\n",
       "      <td>45.96</td>\n",
       "      <td>621003</td>\n",
       "      <td>54.04</td>\n",
       "      <td>730274</td>\n",
       "    </tr>\n",
       "    <tr>\n",
       "      <th>1</th>\n",
       "      <td>Adiyaman</td>\n",
       "      <td>68.84</td>\n",
       "      <td>216491</td>\n",
       "      <td>31.16</td>\n",
       "      <td>97982</td>\n",
       "    </tr>\n",
       "    <tr>\n",
       "      <th>2</th>\n",
       "      <td>Afyonkarahisar</td>\n",
       "      <td>67.84</td>\n",
       "      <td>312452</td>\n",
       "      <td>32.16</td>\n",
       "      <td>148136</td>\n",
       "    </tr>\n",
       "    <tr>\n",
       "      <th>3</th>\n",
       "      <td>Agri</td>\n",
       "      <td>34.66</td>\n",
       "      <td>68790</td>\n",
       "      <td>65.34</td>\n",
       "      <td>129693</td>\n",
       "    </tr>\n",
       "    <tr>\n",
       "      <th>4</th>\n",
       "      <td>Amasya</td>\n",
       "      <td>59.16</td>\n",
       "      <td>134428</td>\n",
       "      <td>40.84</td>\n",
       "      <td>92811</td>\n",
       "    </tr>\n",
       "  </tbody>\n",
       "</table>\n",
       "</div>"
      ],
      "text/plain": [
       "             City  Recep Tayyip Erdogan Percentage  R E Votes  Kemal  \\\n",
       "0           Adana                            45.96     621003  54.04   \n",
       "1        Adiyaman                            68.84     216491  31.16   \n",
       "2  Afyonkarahisar                            67.84     312452  32.16   \n",
       "3            Agri                            34.66      68790  65.34   \n",
       "4          Amasya                            59.16     134428  40.84   \n",
       "\n",
       "   Kemal Votes  \n",
       "0       730274  \n",
       "1        97982  \n",
       "2       148136  \n",
       "3       129693  \n",
       "4        92811  "
      ]
     },
     "execution_count": 5,
     "metadata": {},
     "output_type": "execute_result"
    }
   ],
   "source": [
    "ele_2023 = pd.read_csv(\"Data/Presidential_Elections_Turkey_2023.csv\")\n",
    "ele_2023.head()"
   ]
  },
  {
   "cell_type": "code",
   "execution_count": null,
   "id": "c76758fa",
   "metadata": {},
   "outputs": [],
   "source": [
    "ele_2024 = pd.read_csv(\"Data/Local_Election_Turkey_2024.csv\")\n",
    "ele_2024"
   ]
  },
  {
   "cell_type": "code",
   "execution_count": null,
   "id": "53c8dce5",
   "metadata": {},
   "outputs": [],
   "source": []
  }
 ],
 "metadata": {
  "kernelspec": {
   "display_name": "Python 3 (ipykernel)",
   "language": "python",
   "name": "python3"
  },
  "language_info": {
   "codemirror_mode": {
    "name": "ipython",
    "version": 3
   },
   "file_extension": ".py",
   "mimetype": "text/x-python",
   "name": "python",
   "nbconvert_exporter": "python",
   "pygments_lexer": "ipython3",
   "version": "3.11.5"
  }
 },
 "nbformat": 4,
 "nbformat_minor": 5
}
